{
 "cells": [
  {
   "cell_type": "code",
   "execution_count": 1,
   "id": "d6c6f107-ce3e-45f7-86e4-3716232656d5",
   "metadata": {},
   "outputs": [],
   "source": [
    "import pandas as pd\n",
    "from sklearn.ensemble import RandomForestRegressor\n",
    "from sklearn.model_selection import KFold, cross_val_score\n",
    "from sklearn.metrics import mean_squared_error\n",
    "import numpy as np"
   ]
  },
  {
   "cell_type": "code",
   "execution_count": 2,
   "id": "4074a363-9476-4d88-9bcd-ad262ef7efb5",
   "metadata": {},
   "outputs": [],
   "source": [
    "# Load the dataset\n",
    "X = pd.read_csv('X_data.csv')\n",
    "y = pd.read_csv('y_data.csv').values.ravel()  # Convert to 1D array if needed\n",
    "\n",
    "# Separate the last 26 examples for testing\n",
    "test_size = 26\n",
    "X_train_val = X.iloc[:-test_size]\n",
    "y_train_val = y[:-test_size]\n",
    "X_test = X.iloc[-test_size:]\n",
    "y_test = y[-test_size:]"
   ]
  },
  {
   "cell_type": "code",
   "execution_count": 3,
   "id": "bfbba69a-cbd2-4da5-a003-8dd6430c4d22",
   "metadata": {},
   "outputs": [
    {
     "name": "stderr",
     "output_type": "stream",
     "text": [
      "C:\\Users\\anhuy\\miniconda3\\Lib\\site-packages\\sklearn\\base.py:1474: DataConversionWarning: A column-vector y was passed when a 1d array was expected. Please change the shape of y to (n_samples,), for example using ravel().\n",
      "  return fit_method(estimator, *args, **kwargs)\n",
      "C:\\Users\\anhuy\\miniconda3\\Lib\\site-packages\\sklearn\\base.py:1474: DataConversionWarning: A column-vector y was passed when a 1d array was expected. Please change the shape of y to (n_samples,), for example using ravel().\n",
      "  return fit_method(estimator, *args, **kwargs)\n",
      "C:\\Users\\anhuy\\miniconda3\\Lib\\site-packages\\sklearn\\base.py:1474: DataConversionWarning: A column-vector y was passed when a 1d array was expected. Please change the shape of y to (n_samples,), for example using ravel().\n",
      "  return fit_method(estimator, *args, **kwargs)\n",
      "C:\\Users\\anhuy\\miniconda3\\Lib\\site-packages\\sklearn\\base.py:1474: DataConversionWarning: A column-vector y was passed when a 1d array was expected. Please change the shape of y to (n_samples,), for example using ravel().\n",
      "  return fit_method(estimator, *args, **kwargs)\n",
      "C:\\Users\\anhuy\\miniconda3\\Lib\\site-packages\\sklearn\\base.py:1474: DataConversionWarning: A column-vector y was passed when a 1d array was expected. Please change the shape of y to (n_samples,), for example using ravel().\n",
      "  return fit_method(estimator, *args, **kwargs)\n",
      "C:\\Users\\anhuy\\miniconda3\\Lib\\site-packages\\sklearn\\base.py:1474: DataConversionWarning: A column-vector y was passed when a 1d array was expected. Please change the shape of y to (n_samples,), for example using ravel().\n",
      "  return fit_method(estimator, *args, **kwargs)\n"
     ]
    },
    {
     "name": "stdout",
     "output_type": "stream",
     "text": [
      "Cross-validation RMSE scores: [1.09047203 0.79421427 1.08617511 0.93391254 1.126056  ]\n",
      "Average CV RMSE: 1.0138911849990724\n",
      "Feature Importances (sorted):\n",
      "Feature 5: 0.3369480482455361\n",
      "Feature 4: 0.3035437224347253\n",
      "Feature 10: 0.054898972195024404\n",
      "Feature 12: 0.03825282574007347\n",
      "Feature 0: 0.02928289073984786\n",
      "Feature 3: 0.02750224058462643\n",
      "Feature 17: 0.02726846320952037\n",
      "Feature 8: 0.02647232944797263\n",
      "Feature 18: 0.019460953777363215\n",
      "Feature 6: 0.01891273569528284\n",
      "Feature 2: 0.017278557106440322\n",
      "Feature 13: 0.016341018047093706\n",
      "Feature 14: 0.01539628489828453\n",
      "Feature 11: 0.015165124728969715\n",
      "Feature 19: 0.013676672998308681\n",
      "Feature 7: 0.01012465942636369\n",
      "Feature 16: 0.008240337351499467\n",
      "Feature 15: 0.007963494631519087\n",
      "Feature 1: 0.007944538613054341\n",
      "Feature 9: 0.005326130128493735\n"
     ]
    }
   ],
   "source": [
    "# Set up the model and K-Fold cross-validation\n",
    "random_forest = RandomForestRegressor(random_state=42)\n",
    "kfold = KFold(n_splits=5, shuffle=True, random_state=42)\n",
    "\n",
    "# Perform cross-validation\n",
    "cv_scores = cross_val_score(random_forest, X_train_val, y_train_val, cv=kfold, scoring='neg_mean_squared_error')\n",
    "print(\"Cross-validation RMSE scores:\", np.sqrt(-cv_scores))\n",
    "print(\"Average CV RMSE:\", np.sqrt(-cv_scores.mean()))\n",
    "\n",
    "# Train on full training set for feature importance\n",
    "random_forest.fit(X_train_val, y_train_val)\n",
    "\n",
    "# Sort and print feature importances\n",
    "feature_importances = random_forest.feature_importances_\n",
    "sorted_indices = np.argsort(feature_importances)[::-1]  # Sort from highest to lowest\n",
    "\n",
    "print(\"Feature Importances (sorted):\")\n",
    "for idx in sorted_indices:\n",
    "    print(f\"Feature {idx}: {feature_importances[idx]}\")"
   ]
  },
  {
   "cell_type": "code",
   "execution_count": 4,
   "id": "621494aa-c6c0-4c80-9030-e5e3fbd0908e",
   "metadata": {},
   "outputs": [
    {
     "name": "stdout",
     "output_type": "stream",
     "text": [
      "Test RMSE: 2.1522876596059772\n"
     ]
    }
   ],
   "source": [
    "# Evaluate on the test set\n",
    "y_pred = random_forest.predict(X_test)\n",
    "test_rmse = np.sqrt(mean_squared_error(y_test, y_pred))\n",
    "print(\"Test RMSE:\", test_rmse)"
   ]
  }
 ],
 "metadata": {
  "kernelspec": {
   "display_name": "Python 3 (ipykernel)",
   "language": "python",
   "name": "python3"
  },
  "language_info": {
   "codemirror_mode": {
    "name": "ipython",
    "version": 3
   },
   "file_extension": ".py",
   "mimetype": "text/x-python",
   "name": "python",
   "nbconvert_exporter": "python",
   "pygments_lexer": "ipython3",
   "version": "3.11.5"
  }
 },
 "nbformat": 4,
 "nbformat_minor": 5
}
